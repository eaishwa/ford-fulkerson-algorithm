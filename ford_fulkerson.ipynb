{
 "cells": [
  {
   "cell_type": "markdown",
   "metadata": {},
   "source": [
    "# Max Flow Applications\n",
    "\n",
    "The purpose of this assignment is to investigate applications of finding a Max Flow. The problem asks you to design and implement an algorithm for shipping a material between nodes with different supply and demand requirements.\n",
    "\n",
    "* Please write code *only* in the bodies of the two functions, that is, following the TODO comments.\n",
    "* Be careful not to use varibles defined outside of the functions.\n",
    "* Breaking the two above rules may lead to 0 grades."
   ]
  },
  {
   "cell_type": "markdown",
   "metadata": {},
   "source": [
    "## Movie distribution\n",
    "\n",
    "First solve Problem 2 from hw3-t. \n",
    "\n",
    "Now suppose a movie distributor would like to ship a copy of a film from CA to every other state. There are therefore 48 units to ship out of CA, and each other state receives 1 unit. \n",
    "\n",
    "The dataset contiguous-usa.dat lists the adjacent states in the US. Each line lists two adjacent states; thus AK and HI are omitted, but DC is included in the data. The following code reads in the graph of US states."
   ]
  },
  {
   "cell_type": "code",
   "execution_count": 1,
   "metadata": {},
   "outputs": [],
   "source": [
    "import networkx as nx\n",
    "G = nx.Graph()\n",
    "\n",
    "usa = open('contiguous-usa.dat')\n",
    "for line in usa:\n",
    "    s1, s2 = line.strip().split()\n",
    "    G.add_edge(s1, s2)"
   ]
  },
  {
   "cell_type": "markdown",
   "metadata": {},
   "source": [
    "We now encode the demands into the graph."
   ]
  },
  {
   "cell_type": "code",
   "execution_count": 2,
   "metadata": {},
   "outputs": [],
   "source": [
    "for state in G.nodes():\n",
    "    if state != 'CA':\n",
    "        G.node[state]['demand'] = 1\n",
    "G.node['CA']['demand'] = -48"
   ]
  },
  {
   "cell_type": "markdown",
   "metadata": {},
   "source": [
    "We will assign a uniform capacity of 16 to each edge. Since CA has only three adjacent states, this is the smallest possible uniform capacity that allows one to ship all 48 units out of CA. As we have created an undirected graph, and flows have directions, we first convert the graph to a directed graph."
   ]
  },
  {
   "cell_type": "code",
   "execution_count": 3,
   "metadata": {},
   "outputs": [],
   "source": [
    "G = nx.DiGraph(G)\n",
    "uniform_capacity = 16\n",
    "for (s1, s2) in G.edges():\n",
    "    G.edge[s1][s2]['capacity'] = uniform_capacity"
   ]
  },
  {
   "cell_type": "markdown",
   "metadata": {},
   "source": [
    "Complete the following function to implement your algorithm to find a flow with demands. Your function should work correctly for any input, not just the movie instance considered here. As always, you are encouraged to define auxiliary functions as needed for clarity."
   ]
  },
  {
   "cell_type": "code",
   "execution_count": 4,
   "metadata": {},
   "outputs": [],
   "source": [
    "def flow_with_demands(graph):\n",
    "    \"\"\"Computes a flow with demands over the given graph.\n",
    "    \n",
    "    Args:\n",
    "        graph: A directed graph with nodes annotated with 'demand' properties and edges annotated with 'capacity' \n",
    "            properties.\n",
    "        \n",
    "    Returns:\n",
    "        A dict of dicts containing the flow on each edge. For instance, flow[s1][s2] should provide the flow along\n",
    "        edge (s1, s2).\n",
    "        \n",
    "    Raises:\n",
    "        NetworkXUnfeasible: An error is thrown if there is no flow satisfying the demands.\n",
    "    \"\"\"\n",
    "    # TODO: Implement the function.\n",
    "    sum = 0\n",
    "    for n in graph.nodes():\n",
    "        sum = sum + graph.node[n]['demand']\n",
    "    if sum != 0:\n",
    "        raise nx.NetworkXUnfeasible(\"flow does not satisfy demands\")\n",
    "    else:\n",
    "        graph.add_node('S')\n",
    "        graph.node['S']['demand'] = 0\n",
    "        graph.add_node('T')\n",
    "        graph.node['T']['demand'] = 0\n",
    "        for state in graph.nodes():\n",
    "            if graph.node[state]['demand'] < 0:\n",
    "                graph.add_edge('S',state)\n",
    "                graph.edge['S'][state]['capacity'] = abs(graph.node[state]['demand'])\n",
    "            if graph.node[state]['demand'] > 0:\n",
    "                graph.add_edge(state,'T')\n",
    "                graph.edge[state]['T']['capacity'] = abs(graph.node[state]['demand'])\n",
    "\n",
    "\n",
    "        def checkpath(graph_res):\n",
    "            visited = []\n",
    "            visited.append('S')\n",
    "            graph_res.node['S']['parent'] = \"nil\"\n",
    "            q = []\n",
    "            q.append(\"S\")\n",
    "            while len(q)>0:\n",
    "                e = q.pop(0)\n",
    "                for u in graph_res.neighbors(e):\n",
    "                    if u not in visited:\n",
    "                        visited.append(u)\n",
    "                        graph_res.node[u]['parent']=e\n",
    "                        q.append(u)\n",
    "            if 'T' in visited:\n",
    "                return True\n",
    "            else:\n",
    "                return False\n",
    "\n",
    "        def getpath(n,mypath,graph_res):\n",
    "            if graph_res.node[n]['parent'] != \"nil\":\n",
    "                parent=graph_res.node[n]['parent']\n",
    "                mypath.append(parent)\n",
    "                getpath(parent,mypath,graph_res)\n",
    "            else:\n",
    "                mypath.reverse()\n",
    "            return mypath\n",
    "\n",
    "        def initiateflow():\n",
    "            for (s1,s2) in graph.edges():\n",
    "                graph[s1][s2]['flow']=0\n",
    "\n",
    "        def getminflow(graph_res, traversed):\n",
    "            minlist = []\n",
    "            for one,two in zip(traversed, traversed[1:]):\n",
    "                minlist.append(graph_res[one][two]['capacity'])\n",
    "            mincapacity = min(minlist)\n",
    "            return mincapacity\n",
    "\n",
    "        def initiateres(mygraph):\n",
    "            graph_res = mygraph.copy()\n",
    "            return graph_res\n",
    "\n",
    "        def updategraph(mygraph,f,path):\n",
    "            for one,two in zip(path, path[1:]):\n",
    "                mygraph[one][two]['flow'] = mygraph[one][two]['flow']+f\n",
    "            return graph\n",
    "\n",
    "        def updateres(graph_res,f,path):\n",
    "            for one,two in zip(path, path[1:]):\n",
    "                graph_res[one][two]['capacity']=graph_res[one][two]['capacity']-f\n",
    "                if graph_res.has_edge(two,one):\n",
    "                    graph_res[two][one]['capacity']=graph_res[two][one]['capacity']+f\n",
    "                else:\n",
    "                    graph_res.add_edge(two,one,capacity=f)\n",
    "            for s1,s2 in graph_res.edges():\n",
    "                if graph_res[s1][s2]['capacity']==0:\n",
    "                    graph_res.remove_edge(s1,s2) \n",
    "            return graph_res\n",
    "\n",
    "        initiateflow()\n",
    "        graph_res = initiateres(graph)\n",
    "        maxflow = 0\n",
    "        while checkpath(graph_res) == True:\n",
    "            mypath = ['T']\n",
    "            path = getpath('T',mypath,graph_res)\n",
    "            flow = getminflow(graph_res,path)\n",
    "            maxflow = maxflow+flow\n",
    "            graph = updategraph(graph,flow,path)\n",
    "            graph_res = updateres(graph_res,flow,path)\n",
    "            \n",
    "        dest_sum=0\n",
    "        src_sum=0\n",
    "        for (s1,s2) in graph.edges():\n",
    "            if (s2=='T'):\n",
    "                dest_sum=dest_sum+graph.edge[s1][s2]['capacity']\n",
    "            if (s1=='S'):\n",
    "                src_sum=src_sum+graph.edge[s1][s2]['capacity']\n",
    "\n",
    "        if ((maxflow != src_sum) | (maxflow != dest_sum)):\n",
    "            raise nx.NetworkXUnfeasible(\"flow does not satisfy demands\")\n",
    "\n",
    "        final_dict = {}\n",
    "        internal_dict = {}\n",
    "        for n in graph.nodes():\n",
    "            final_dict[n] = []\n",
    "\n",
    "        for n in graph.nodes():\n",
    "            for neigh in graph.neighbors(n):\n",
    "                internal_dict[neigh]=graph[n][neigh]['flow']\n",
    "            final_dict[n]=internal_dict\n",
    "            internal_dict = {}\n",
    "\n",
    "        graph.remove_node('S')\n",
    "        graph.remove_node('T')\n",
    "\n",
    "        if 'S' in final_dict:\n",
    "            del final_dict['S']\n",
    "        if 'T' in final_dict:\n",
    "            del final_dict['T']\n",
    "\n",
    "        for (key,values) in final_dict.items():\n",
    "            if 'S' in values:\n",
    "                del values['S']\n",
    "            if 'T' in values:\n",
    "                del values['T']\n",
    "        return final_dict"
   ]
  },
  {
   "cell_type": "markdown",
   "metadata": {},
   "source": [
    "To verify that your solution is correct, implement a function that computes the total flow into each node (which will be negative for supply nodes)."
   ]
  },
  {
   "cell_type": "code",
   "execution_count": 5,
   "metadata": {},
   "outputs": [],
   "source": [
    "def divergence(flow):\n",
    "    \"\"\"Computes the total flow into each node according to the given flow dict.\n",
    "    \n",
    "    Args:\n",
    "        flow: the flow dict recording flow between nodes.\n",
    "        \n",
    "    Returns:\n",
    "        A dict of the net flow into each node.\n",
    "    \"\"\"\n",
    "    # TODO: Implement the function.\n",
    "    outflow = {}\n",
    "    for (key,values) in flow.items():\n",
    "        sum = 0\n",
    "        for (k,v) in values.items():\n",
    "            sum = sum + v\n",
    "        outflow.update({key:sum})\n",
    "        \n",
    "    inflow = {}\n",
    "    for (key,values) in flow.items():\n",
    "        for (k,v) in values.items():\n",
    "            if k in inflow:\n",
    "                inflow[k] = inflow[k]+v\n",
    "            else:\n",
    "                inflow.update({k:v})\n",
    "    div = {key: inflow[key] - outflow.get(key, 0) for key in inflow.keys()}\n",
    "    return div"
   ]
  },
  {
   "cell_type": "markdown",
   "metadata": {},
   "source": [
    "The following code performs a sanity check on your function (but does not completely confirm correctness)."
   ]
  },
  {
   "cell_type": "code",
   "execution_count": 6,
   "metadata": {},
   "outputs": [
    {
     "ename": "NetworkXUnfeasible",
     "evalue": "flow does not satisfy demands",
     "output_type": "error",
     "traceback": [
      "\u001b[1;31m\u001b[0m",
      "\u001b[1;31mNetworkXUnfeasible\u001b[0mTraceback (most recent call last)",
      "\u001b[1;32m<ipython-input-6-cef0a926c54a>\u001b[0m in \u001b[0;36m<module>\u001b[1;34m()\u001b[0m\n\u001b[1;32m----> 1\u001b[1;33m \u001b[0mflow\u001b[0m \u001b[1;33m=\u001b[0m \u001b[0mflow_with_demands\u001b[0m\u001b[1;33m(\u001b[0m\u001b[0mG\u001b[0m\u001b[1;33m)\u001b[0m\u001b[1;33m\u001b[0m\u001b[0m\n\u001b[0m\u001b[0;32m      2\u001b[0m \u001b[0mdiv\u001b[0m \u001b[1;33m=\u001b[0m \u001b[0mdivergence\u001b[0m\u001b[1;33m(\u001b[0m\u001b[0mflow\u001b[0m\u001b[1;33m)\u001b[0m\u001b[1;33m\u001b[0m\u001b[0m\n\u001b[0;32m      3\u001b[0m \u001b[1;32mprint\u001b[0m \u001b[1;34m\"Flow satisfies all demands:\"\u001b[0m\u001b[1;33m,\u001b[0m \u001b[0mall\u001b[0m\u001b[1;33m(\u001b[0m\u001b[0mdiv\u001b[0m\u001b[1;33m[\u001b[0m\u001b[0mn\u001b[0m\u001b[1;33m]\u001b[0m \u001b[1;33m==\u001b[0m \u001b[0mG\u001b[0m\u001b[1;33m.\u001b[0m\u001b[0mnode\u001b[0m\u001b[1;33m[\u001b[0m\u001b[0mn\u001b[0m\u001b[1;33m]\u001b[0m\u001b[1;33m[\u001b[0m\u001b[1;34m'demand'\u001b[0m\u001b[1;33m]\u001b[0m \u001b[1;32mfor\u001b[0m \u001b[0mn\u001b[0m \u001b[1;32min\u001b[0m \u001b[0mG\u001b[0m\u001b[1;33m.\u001b[0m\u001b[0mnodes\u001b[0m\u001b[1;33m(\u001b[0m\u001b[1;33m)\u001b[0m\u001b[1;33m)\u001b[0m\u001b[1;33m\u001b[0m\u001b[0m\n",
      "\u001b[1;32m<ipython-input-4-07d082df23b1>\u001b[0m in \u001b[0;36mflow_with_demands\u001b[1;34m(graph)\u001b[0m\n\u001b[0;32m     18\u001b[0m         \u001b[0msum\u001b[0m \u001b[1;33m=\u001b[0m \u001b[0msum\u001b[0m \u001b[1;33m+\u001b[0m \u001b[0mgraph\u001b[0m\u001b[1;33m.\u001b[0m\u001b[0mnode\u001b[0m\u001b[1;33m[\u001b[0m\u001b[0mn\u001b[0m\u001b[1;33m]\u001b[0m\u001b[1;33m[\u001b[0m\u001b[1;34m'demand'\u001b[0m\u001b[1;33m]\u001b[0m\u001b[1;33m\u001b[0m\u001b[0m\n\u001b[0;32m     19\u001b[0m     \u001b[1;32mif\u001b[0m \u001b[0msum\u001b[0m \u001b[1;33m!=\u001b[0m \u001b[1;36m0\u001b[0m\u001b[1;33m:\u001b[0m\u001b[1;33m\u001b[0m\u001b[0m\n\u001b[1;32m---> 20\u001b[1;33m         \u001b[1;32mraise\u001b[0m \u001b[0mnx\u001b[0m\u001b[1;33m.\u001b[0m\u001b[0mNetworkXUnfeasible\u001b[0m\u001b[1;33m(\u001b[0m\u001b[1;34m\"flow does not satisfy demands\"\u001b[0m\u001b[1;33m)\u001b[0m\u001b[1;33m\u001b[0m\u001b[0m\n\u001b[0m\u001b[0;32m     21\u001b[0m     \u001b[1;32melse\u001b[0m\u001b[1;33m:\u001b[0m\u001b[1;33m\u001b[0m\u001b[0m\n\u001b[0;32m     22\u001b[0m         \u001b[0mgraph\u001b[0m\u001b[1;33m.\u001b[0m\u001b[0madd_node\u001b[0m\u001b[1;33m(\u001b[0m\u001b[1;34m'S'\u001b[0m\u001b[1;33m)\u001b[0m\u001b[1;33m\u001b[0m\u001b[0m\n",
      "\u001b[1;31mNetworkXUnfeasible\u001b[0m: flow does not satisfy demands"
     ]
    }
   ],
   "source": [
    "flow = flow_with_demands(G)\n",
    "div = divergence(flow)\n",
    "print \"Flow satisfies all demands:\", all(div[n] == G.node[n]['demand'] for n in G.nodes())"
   ]
  },
  {
   "cell_type": "code",
   "execution_count": null,
   "metadata": {},
   "outputs": [],
   "source": []
  }
 ],
 "metadata": {
  "kernelspec": {
   "display_name": "Python 2",
   "language": "python",
   "name": "python2"
  },
  "language_info": {
   "codemirror_mode": {
    "name": "ipython",
    "version": 2
   },
   "file_extension": ".py",
   "mimetype": "text/x-python",
   "name": "python",
   "nbconvert_exporter": "python",
   "pygments_lexer": "ipython2",
   "version": "2.7.15"
  }
 },
 "nbformat": 4,
 "nbformat_minor": 1
}
